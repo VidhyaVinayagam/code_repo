{
 "cells": [
  {
   "cell_type": "markdown",
   "metadata": {},
   "source": [
    "# Data Processing"
   ]
  },
  {
   "cell_type": "markdown",
   "metadata": {},
   "source": [
    "## Data Processing using Scala\n",
    "\n",
    " * To do quarterly event reporting comparing events between data export(Json) from Holocron and event data available in Legal and Marketing (csv)\n",
    " * Output is required in Parquet for further processing\n"
   ]
  },
  {
   "cell_type": "code",
   "execution_count": null,
   "metadata": {},
   "outputs": [],
   "source": [
    "## data processing\n",
    "import org.apache.spark.sql.SparkSession\n",
    "import org.apache.spark.sql.functions.{date_format, sum, round}\n",
    "\n",
    "val username = System.getProperty(\"user.name\")\n",
    "\n",
    "val spark = SparkSession.\n",
    "    builder.\n",
    "    config(\"spark.ui.port\", \"0\").\n",
    "    appName(\"event_reporting_quarterly\").\n",
    "    master(\"yarn\").\n",
    "    getOrCreate\n",
    "\n",
    "spark.conf.set(\"spark.sql.shuffle.partitions\", \"2\")\n",
    "import spark.implicits._\n",
    "\n",
    "## Reading events from reporting team\n",
    "val events_tno = \"path/file\"\n",
    "val events = spark.\n",
    "    read.\n",
    "    schema(\"event_id INT, event_date TIMESTAMP, \" +\n",
    "           \"event_reference_id INT, event_status STRING, event_payment_status STRING, event_refund FLOAT\"\n",
    "          ).\n",
    "    csv(events_tno)\n",
    "    \n",
    "## Reading events from holocron \n",
    "val events_hc = spark. \\\n",
    "    read. \\\n",
    "    option(\"inferSchema\", \"false\").\n",
    "    schema(\"\"\"event_id INT, event_date TIMESTAMP,\n",
    "              event_reference_id INT, event_status STRING\n",
    "           \"\"\").\n",
    "    format(\"json\").\n",
    "    load(\"filepath/file\")\n",
    "\n",
    "events.\n",
    "    filter(\"event_status in ('COMPLETE', 'CLOSED')\").\n",
    "    join(events_hc, events(\"event_reference_id\") === events_hc(\"event_reference_id\")).\n",
    "    groupBy(date_format($\"event_date\", \"yyyyMM\").alias(\"event_month\")).\n",
    "    agg(round(sum($\"event_refund\"), 2).alias(\"total_refund\")).\n",
    "    orderBy(\"event_month\").\n",
    "    coalesce(1).\n",
    "    write.\n",
    "    mode(\"overwrite\").\n",
    "    option(\"compression\", \"none\").\n",
    "    format(\"parquet\").\n",
    "    save(\"output_file\")"
   ]
  }
 ],
 "metadata": {
  "kernelspec": {
   "display_name": "Python 3",
   "language": "python",
   "name": "python3"
  },
  "language_info": {
   "codemirror_mode": {
    "name": "ipython",
    "version": 3
   },
   "file_extension": ".py",
   "mimetype": "text/x-python",
   "name": "python",
   "nbconvert_exporter": "python",
   "pygments_lexer": "ipython3",
   "version": "3.8.3"
  }
 },
 "nbformat": 4,
 "nbformat_minor": 4
}
