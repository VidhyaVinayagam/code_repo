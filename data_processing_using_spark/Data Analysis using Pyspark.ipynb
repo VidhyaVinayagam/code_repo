{
 "cells": [
  {
   "cell_type": "markdown",
   "metadata": {},
   "source": [
    "# Data Analysis using Pyspark\n",
    "\n",
    "* NAB Customer Remediation Events\n",
    "As a part of customer remediation event, once the impacted population is determined we need extensive data analysis to be done to understand the sizing, financial impact and total refund estimation\n",
    "Data analysis on the impacted population is done using Pyspark transformations in terms of Filtering, Aggregation and sorting\n"
   ]
  },
  {
   "cell_type": "code",
   "execution_count": 1,
   "metadata": {},
   "outputs": [],
   "source": [
    "# starting spark context\n",
    "from pyspark.sql import SparkSession\n",
    "\n",
    "spark = SparkSession. \\\n",
    "    builder. \\\n",
    "    config('spark.ui.port', '0'). \\\n",
    "    appName('remediation_482'). \\\n",
    "    master('yarn'). \\\n",
    "    getOrCreate()\n",
    "\n",
    "event482_path = \"/file path for impacted population\"\n",
    "\n",
    "population = spark.read. parquet(///event482_path)"
   ]
  },
  {
   "cell_type": "code",
   "execution_count": null,
   "metadata": {
    "pycharm": {
     "name": "#%%\n"
    }
   },
   "outputs": [],
   "source": [
    "# number of customers impacted due to deleted next repayments but not delayed repayments\n",
    "population. filter(\"IsRepayDeleted = 'YES' AND IsRepayDelayed = 'NO'\"). count()"
   ]
  },
  {
   "cell_type": "code",
   "execution_count": null,
   "metadata": {
    "pycharm": {
     "name": "#%%\n"
    }
   },
   "outputs": [],
   "source": [
    "from pyspark.sql.functions import col"
   ]
  },
  {
   "cell_type": "code",
   "execution_count": null,
   "metadata": {
    "pycharm": {
     "name": "#%%\n"
    }
   },
   "outputs": [],
   "source": [
    "population. filter((col(\"IsRepayDeleted\") == \"YES\") &  (col(\"IsRepayDelayed\") == \"NO\")). count()"
   ]
  },
  {
   "cell_type": "code",
   "execution_count": null,
   "metadata": {
    "pycharm": {
     "name": "#%%\n"
    }
   },
   "outputs": [],
   "source": [
    "from pyspark.sql.functions import col, concat, lpad, lit, count, sum, expr\n",
    "\n",
    "# number of impacts for which repaymnets delayed for more than 2 months\n",
    "population. filter(col(\"diff_payment_date\") > 70).  count()\n",
    "# To identify if impacted population has customers in COVID repayment pause or any hardships\n",
    "population. filter(\"facility_action IN ('PAU', 'HRD', 'FIN', 'MAN', 'COV')\"). count()\n",
    "# To identify if impacted population with customers in COVID repayment pause or any hardships and whose payments have been deleted\n",
    "population. withColumn(\"COVID_PaymentDelayed\",concat(col(\"Year\"), lpad(col(\"Month\"), 2, \"0\")). filter(\"IsRepayDelayed = 'YES' AND PaymentDate LIKE '200801%'\"). count()\n",
    "\n",
    "# Aggregating both delayed and deleted repayments\n",
    "\n",
    "population. \\\n",
    "    agg(count(lit(1)).alias(\"EventCount\"),\n",
    "        sum(expr(\"CASE WHEN IsRepayDeleted = 'YES' THEN 1 ELSE 0 END\")).alias(\"Count_Repay_deleted\"),\n",
    "        sum(expr(\"CASE WHEN IsRepayDelayed = 'YES' THEN 1 ELSE 0 END\")).alias(\"Count_Repay_delayed\")\n",
    "       ). \\\n",
    "    show()                   "
   ]
  },
  {
   "cell_type": "code",
   "execution_count": null,
   "metadata": {
    "pycharm": {
     "name": "#%%\n"
    }
   },
   "outputs": [],
   "source": [
    "##Grouping by run date \n",
    "\n",
    "from pyspark.sql.functions import lit, concat, lpad\n",
    "population. \\\n",
    "  groupBy(concat(\"Audit_Year\", lit(\"-\"), \n",
    "                 lpad(\"Audit_Month\", 2, \"0\"), lit(\"-\"), \n",
    "                 lpad(\"Audit_day\", 2, \"0\")).\n",
    "          alias(\"AuditDate\")). \\\n",
    "    agg(count(lit(1)).alias(\"Impacts_Count\"),\n",
    "        sum(expr(\"CASE WHEN IsRepayDeleted = 'YES' THEN 1 ELSE 0 END\")).alias(\"Count_Repay_deleted\"),\n",
    "        sum(expr(\"CASE WHEN IsRepayDelayed = 'YES' THEN 1 ELSE 0 END\")).alias(\"Count_Repay_delayed\")\n",
    "       ). \\\n",
    "    orderBy(col(\"AuditDate\").desc()). \\\n",
    "    show()"
   ]
  },
  {
   "cell_type": "code",
   "execution_count": null,
   "metadata": {},
   "outputs": [],
   "source": []
  }
 ],
 "metadata": {
  "kernelspec": {
   "display_name": "Python 3",
   "language": "python",
   "name": "python3"
  },
  "language_info": {
   "codemirror_mode": {
    "name": "ipython",
    "version": 3
   },
   "file_extension": ".py",
   "mimetype": "text/x-python",
   "name": "python",
   "nbconvert_exporter": "python",
   "pygments_lexer": "ipython3",
   "version": "3.8.3"
  },
  "pycharm": {
   "stem_cell": {
    "cell_type": "raw",
    "metadata": {
     "collapsed": false
    },
    "source": [
     "\n",
     "\n",
     "\n"
    ]
   }
  }
 },
 "nbformat": 4,
 "nbformat_minor": 4
}
