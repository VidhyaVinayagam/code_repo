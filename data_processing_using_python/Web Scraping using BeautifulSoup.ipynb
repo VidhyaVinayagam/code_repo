{
 "cells": [
  {
   "cell_type": "markdown",
   "metadata": {},
   "source": [
    "## Problem Statement\n",
    "\n",
    "* Nokia Siemens\n",
    "* Code snippet to Understand customer experieince based on studying circled images from CEI webpage"
   ]
  },
  {
   "cell_type": "code",
   "execution_count": 73,
   "metadata": {},
   "outputs": [],
   "source": [
    "#to get the content from HTML Pages\n",
    "import requests\n",
    "import urllib.request\n",
    "\n",
    "#Process HTML Tags and extract Data\n",
    "from bs4 import BeautifulSoup\n",
    " \n",
    "\n",
    "link = \"//internal product webpage\"\n",
    "f = urllib.request.urlopen(link)\n",
    "myfile = f.read()\n",
    "\n",
    "#parsing data using tag 'img'\n",
    "response = requests.get(link)\n",
    "soup = BeautifulSoup(response.text, \"html.parser\")\n",
    "soup.findAll('img')\n",
    "count = 0\n",
    "\n",
    "\n",
    "for i in soup.findAll('img'):\n",
    "    circles = str(i['src'])\n",
    "    for circle in (circles.splitlines()):\n",
    "        if (len(circle)) == 11:\n",
    "            count += 1\n",
    "            \n",
    "print (\"The number of processed sales is\" ,count)\""
   ]
  },
  {
   "cell_type": "markdown",
   "metadata": {},
   "source": [
    "## Problem Statement\n",
    "\n",
    "* Nokia Siemens\n",
    "* Code snippet to Understand network traffic data from a web page\n",
    "* pass the content to BeautifulSoup , parse the HTML Tags and extract data for further processing."
   ]
  },
  {
   "cell_type": "code",
   "execution_count": 71,
   "metadata": {},
   "outputs": [],
   "source": [
    "import requests"
   ]
  },
  {
   "cell_type": "code",
   "execution_count": null,
   "metadata": {},
   "outputs": [],
   "source": [
    "networks_url = 'https://$$$'\n",
    "networks_page = requests.get(networks_url)"
   ]
  },
  {
   "cell_type": "code",
   "execution_count": null,
   "metadata": {},
   "outputs": [],
   "source": [
    "soup = BeautifulSoup(networks_page.content, 'html.parser')\n",
    "\n",
    "print(soup.prettify())"
   ]
  },
  {
   "cell_type": "code",
   "execution_count": null,
   "metadata": {},
   "outputs": [],
   "source": [
    "## get field name with number of elemens 12"
   ]
  },
  {
   "cell_type": "code",
   "execution_count": null,
   "metadata": {},
   "outputs": [],
   "source": [
    "for tr in soup.find_all('tr'):\n",
    "    th = tr.find_all('th')\n",
    "    if len(th) == 12:\n",
    "        for field_name in th:\n",
    "            print(field_name.string)"
   ]
  },
  {
   "cell_type": "markdown",
   "metadata": {},
   "source": [
    "* Get the actual values from `td` tags, only get 3 of them for actual service MODEservise (2G,3G,4G) , service provider and service_type (Voice / Broadband)\n"
   ]
  },
  {
   "cell_type": "code",
   "execution_count": null,
   "metadata": {},
   "outputs": [],
   "source": [
    "ctr = 0\n",
    "for tr in soup.find_all('tr'):\n",
    "    if ctr == 3: break\n",
    "    td = tr.find_all('td')\n",
    "    if len(td) == 12:\n",
    "        for field_name in td:\n",
    "            print(field_name.string)\n",
    "        ctr += 1"
   ]
  },
  {
   "cell_type": "markdown",
   "metadata": {},
   "source": [
    "## Creating Data Frame\n",
    "\n",
    "* Get all the headers into a list **field_names** by using data from `th` tags.\n",
    "* Get all the `tr` tags with `td` tags. We will build list **field_values** using one row at a time.\n",
    "* While processing **table rows** , build the dict using **field_names** and **field_values**. Using these dicts, build a list of dicts\n",
    "* Using list of dicts , create the Data Frame."
   ]
  },
  {
   "cell_type": "code",
   "execution_count": null,
   "metadata": {},
   "outputs": [],
   "source": [
    "# Build list for field names.\n",
    "field_names = []\n",
    "\n",
    "for tr in soup.find_all('tr'):\n",
    "    th = tr.find_all('th')\n",
    "    if len(th) == 12:\n",
    "        for field_name in th:\n",
    "            field_names.append(field_name.string)\n",
    "\n",
    "field_names"
   ]
  },
  {
   "cell_type": "code",
   "execution_count": null,
   "metadata": {},
   "outputs": [],
   "source": [
    "# Build list of dicts. Each dict will contain 12 elements with keys from field_names and values from field_values\n",
    "data = []\n",
    "for tr in soup.find_all('tr'):\n",
    "    td = tr.find_all('td')\n",
    "    field_values = []\n",
    "    if len(td) == 12:\n",
    "        for field_value in td:\n",
    "            field_values.append(field_value.string)\n",
    "        rec = dict(zip(field_names, field_values))\n",
    "        data.append(rec)"
   ]
  },
  {
   "cell_type": "code",
   "execution_count": null,
   "metadata": {},
   "outputs": [],
   "source": [
    "# Creating Pandas Data Frame\n",
    "import pandas as pd\n",
    "df = pd.DataFrame(data)\n",
    "\n",
    "df"
   ]
  },
  {
   "cell_type": "code",
   "execution_count": null,
   "metadata": {},
   "outputs": [],
   "source": [
    "df.query('`service_type` == \"VOICE\" & `service_mode`== \"2G\"')"
   ]
  }
 ],
 "metadata": {
  "kernelspec": {
   "display_name": "Python 3",
   "language": "python",
   "name": "python3"
  },
  "language_info": {
   "codemirror_mode": {
    "name": "ipython",
    "version": 3
   },
   "file_extension": ".py",
   "mimetype": "text/x-python",
   "name": "python",
   "nbconvert_exporter": "python",
   "pygments_lexer": "ipython3",
   "version": "3.8.3"
  }
 },
 "nbformat": 4,
 "nbformat_minor": 4
}
